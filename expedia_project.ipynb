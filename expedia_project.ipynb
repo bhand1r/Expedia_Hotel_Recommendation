{
 "cells": [
  {
   "cell_type": "markdown",
   "id": "837dc1df",
   "metadata": {},
   "source": [
    "## Read data stored in S3 using SageMaker"
   ]
  },
  {
   "cell_type": "code",
   "execution_count": 1,
   "id": "f2f9f74c",
   "metadata": {},
   "outputs": [],
   "source": [
    "import boto3\n",
    "import pandas as pd\n",
    "from sagemaker import get_execution_role\n",
    "\n",
    "role = get_execution_role()\n",
    "bucket='686prj'\n",
    "data_key = 'train.csv'\n",
    "data_location = 's3://{}/{}'.format(bucket, data_key)"
   ]
  },
  {
   "cell_type": "markdown",
   "id": "21cab70c",
   "metadata": {},
   "source": [
    "## Import necessary libraries"
   ]
  },
  {
   "cell_type": "code",
   "execution_count": 2,
   "id": "9be7c1bb",
   "metadata": {},
   "outputs": [],
   "source": [
    "import numpy as np\n",
    "import pandas as pd\n",
    "import matplotlib.pyplot as plt\n",
    "import seaborn as sns"
   ]
  },
  {
   "cell_type": "markdown",
   "id": "eaaf1596",
   "metadata": {},
   "source": [
    "## Import data"
   ]
  },
  {
   "cell_type": "code",
   "execution_count": 3,
   "id": "9309093a",
   "metadata": {},
   "outputs": [],
   "source": [
    "df = pd.read_csv(data_location,nrows=100000)"
   ]
  },
  {
   "cell_type": "code",
   "execution_count": 4,
   "id": "e3509d3f",
   "metadata": {},
   "outputs": [
    {
     "data": {
      "text/plain": [
       "Index(['date_time', 'site_name', 'posa_continent', 'user_location_country',\n",
       "       'user_location_region', 'user_location_city',\n",
       "       'orig_destination_distance', 'user_id', 'is_mobile', 'is_package',\n",
       "       'channel', 'srch_ci', 'srch_co', 'srch_adults_cnt', 'srch_children_cnt',\n",
       "       'srch_rm_cnt', 'srch_destination_id', 'srch_destination_type_id',\n",
       "       'is_booking', 'cnt', 'hotel_continent', 'hotel_country', 'hotel_market',\n",
       "       'hotel_cluster'],\n",
       "      dtype='object')"
      ]
     },
     "execution_count": 4,
     "metadata": {},
     "output_type": "execute_result"
    }
   ],
   "source": [
    "df.columns"
   ]
  },
  {
   "cell_type": "code",
   "execution_count": 5,
   "id": "3cc85d36",
   "metadata": {},
   "outputs": [
    {
     "data": {
      "text/plain": [
       "date_time                     object\n",
       "site_name                      int64\n",
       "posa_continent                 int64\n",
       "user_location_country          int64\n",
       "user_location_region           int64\n",
       "user_location_city             int64\n",
       "orig_destination_distance    float64\n",
       "user_id                        int64\n",
       "is_mobile                      int64\n",
       "is_package                     int64\n",
       "channel                        int64\n",
       "srch_ci                       object\n",
       "srch_co                       object\n",
       "srch_adults_cnt                int64\n",
       "srch_children_cnt              int64\n",
       "srch_rm_cnt                    int64\n",
       "srch_destination_id            int64\n",
       "srch_destination_type_id       int64\n",
       "is_booking                     int64\n",
       "cnt                            int64\n",
       "hotel_continent                int64\n",
       "hotel_country                  int64\n",
       "hotel_market                   int64\n",
       "hotel_cluster                  int64\n",
       "dtype: object"
      ]
     },
     "execution_count": 5,
     "metadata": {},
     "output_type": "execute_result"
    }
   ],
   "source": [
    "df.dtypes"
   ]
  },
  {
   "cell_type": "code",
   "execution_count": 6,
   "id": "53cbf982",
   "metadata": {},
   "outputs": [
    {
     "data": {
      "text/plain": [
       "date_time                        0\n",
       "site_name                        0\n",
       "posa_continent                   0\n",
       "user_location_country            0\n",
       "user_location_region             0\n",
       "user_location_city               0\n",
       "orig_destination_distance    36922\n",
       "user_id                          0\n",
       "is_mobile                        0\n",
       "is_package                       0\n",
       "channel                          0\n",
       "srch_ci                         71\n",
       "srch_co                         71\n",
       "srch_adults_cnt                  0\n",
       "srch_children_cnt                0\n",
       "srch_rm_cnt                      0\n",
       "srch_destination_id              0\n",
       "srch_destination_type_id         0\n",
       "is_booking                       0\n",
       "cnt                              0\n",
       "hotel_continent                  0\n",
       "hotel_country                    0\n",
       "hotel_market                     0\n",
       "hotel_cluster                    0\n",
       "dtype: int64"
      ]
     },
     "execution_count": 6,
     "metadata": {},
     "output_type": "execute_result"
    }
   ],
   "source": [
    "df.isnull().sum()"
   ]
  },
  {
   "cell_type": "markdown",
   "id": "aa639ddf",
   "metadata": {},
   "source": [
    "## Exploratory Data Analysis"
   ]
  },
  {
   "cell_type": "code",
   "execution_count": 7,
   "id": "4fa1ea4c",
   "metadata": {},
   "outputs": [
    {
     "data": {
      "text/plain": [
       "(100000, 24)"
      ]
     },
     "execution_count": 7,
     "metadata": {},
     "output_type": "execute_result"
    }
   ],
   "source": [
    "df.shape"
   ]
  },
  {
   "cell_type": "code",
   "execution_count": 8,
   "id": "1019d154",
   "metadata": {},
   "outputs": [
    {
     "data": {
      "text/plain": [
       "3    76874\n",
       "1    14527\n",
       "2     7178\n",
       "4     1070\n",
       "0      351\n",
       "Name: posa_continent, dtype: int64"
      ]
     },
     "execution_count": 8,
     "metadata": {},
     "output_type": "execute_result"
    }
   ],
   "source": [
    "df['posa_continent'].value_counts()"
   ]
  },
  {
   "cell_type": "code",
   "execution_count": 9,
   "id": "afc483c6",
   "metadata": {},
   "outputs": [
    {
     "data": {
      "image/png": "[encoded data removed]",
      "text/plain": [
       "<Figure size 660x440 with 1 Axes>"
      ]
     },
     "metadata": {
      "needs_background": "light"
     },
     "output_type": "display_data"
    }
   ],
   "source": [
    "plt.figure(figsize=(6,4),dpi=110)\n",
    "sns.countplot(x='posa_continent', data=df)\n",
    "plt.show()"
   ]
  },
  {
   "cell_type": "code",
   "execution_count": 10,
   "id": "2a4d7b3f",
   "metadata": {},
   "outputs": [
    {
     "data": {
      "text/plain": [
       "174    12506\n",
       "220     4322\n",
       "348     4313\n",
       "442     4205\n",
       "354     3077\n",
       "       ...  \n",
       "803        1\n",
       "752        1\n",
       "559        1\n",
       "110        1\n",
       "709        1\n",
       "Name: user_location_region, Length: 510, dtype: int64"
      ]
     },
     "execution_count": 10,
     "metadata": {},
     "output_type": "execute_result"
    }
   ],
   "source": [
    "df['user_location_region'].value_counts()"
   ]
  },
  {
   "cell_type": "code",
   "execution_count": 11,
   "id": "dd36448d",
   "metadata": {},
   "outputs": [
    {
     "data": {
      "text/plain": [
       "0    0.86197\n",
       "1    0.13803\n",
       "Name: is_mobile, dtype: float64"
      ]
     },
     "execution_count": 11,
     "metadata": {},
     "output_type": "execute_result"
    }
   ],
   "source": [
    "df['is_mobile'].value_counts(normalize=True)"
   ]
  },
  {
   "cell_type": "code",
   "execution_count": 12,
   "id": "d8fc3b40",
   "metadata": {},
   "outputs": [
    {
     "data": {
      "text/plain": [
       "0    0.73953\n",
       "1    0.26047\n",
       "Name: is_package, dtype: float64"
      ]
     },
     "execution_count": 12,
     "metadata": {},
     "output_type": "execute_result"
    }
   ],
   "source": [
    "df['is_package'].value_counts(normalize=True)"
   ]
  },
  {
   "cell_type": "code",
   "execution_count": 13,
   "id": "ec4aa404",
   "metadata": {},
   "outputs": [
    {
     "data": {
      "text/plain": [
       "2    66586\n",
       "1    20167\n",
       "4     5636\n",
       "3     5261\n",
       "5      883\n",
       "6      828\n",
       "0      393\n",
       "8      152\n",
       "7       64\n",
       "9       30\n",
       "Name: srch_adults_cnt, dtype: int64"
      ]
     },
     "execution_count": 13,
     "metadata": {},
     "output_type": "execute_result"
    }
   ],
   "source": [
    "df['srch_adults_cnt'].value_counts()"
   ]
  },
  {
   "cell_type": "code",
   "execution_count": 14,
   "id": "69383b67",
   "metadata": {},
   "outputs": [
    {
     "data": {
      "image/png": "[encoded data removed]",
      "text/plain": [
       "<Figure size 660x440 with 1 Axes>"
      ]
     },
     "metadata": {
      "needs_background": "light"
     },
     "output_type": "display_data"
    }
   ],
   "source": [
    "plt.figure(figsize=(6,4),dpi=110)\n",
    "sns.countplot(x='srch_adults_cnt', data=df)\n",
    "plt.show()"
   ]
  },
  {
   "cell_type": "code",
   "execution_count": 15,
   "id": "b78fa0a3",
   "metadata": {},
   "outputs": [
    {
     "data": {
      "text/plain": [
       "0    79452\n",
       "1    10877\n",
       "2     7980\n",
       "3     1218\n",
       "4      404\n",
       "5       36\n",
       "6       15\n",
       "7       10\n",
       "9        5\n",
       "8        3\n",
       "Name: srch_children_cnt, dtype: int64"
      ]
     },
     "execution_count": 15,
     "metadata": {},
     "output_type": "execute_result"
    }
   ],
   "source": [
    "df['srch_children_cnt'].value_counts()"
   ]
  },
  {
   "cell_type": "code",
   "execution_count": 16,
   "id": "a31c4e9b",
   "metadata": {},
   "outputs": [
    {
     "data": {
      "image/png": "[encoded data removed]",
      "text/plain": [
       "<Figure size 660x440 with 1 Axes>"
      ]
     },
     "metadata": {
      "needs_background": "light"
     },
     "output_type": "display_data"
    }
   ],
   "source": [
    "plt.figure(figsize=(6,4),dpi=110)\n",
    "sns.countplot(x='srch_children_cnt', data=df)\n",
    "plt.show()"
   ]
  },
  {
   "cell_type": "code",
   "execution_count": 17,
   "id": "f42c765a",
   "metadata": {},
   "outputs": [
    {
     "data": {
      "text/plain": [
       "1    91203\n",
       "2     7359\n",
       "3      986\n",
       "4      182\n",
       "5      122\n",
       "8       91\n",
       "6       39\n",
       "7       13\n",
       "0        5\n",
       "Name: srch_rm_cnt, dtype: int64"
      ]
     },
     "execution_count": 17,
     "metadata": {},
     "output_type": "execute_result"
    }
   ],
   "source": [
    "df['srch_rm_cnt'].value_counts()"
   ]
  },
  {
   "cell_type": "code",
   "execution_count": 18,
   "id": "dbfebbe3",
   "metadata": {},
   "outputs": [
    {
     "data": {
      "text/plain": [
       "<AxesSubplot:xlabel='srch_rm_cnt', ylabel='count'>"
      ]
     },
     "execution_count": 18,
     "metadata": {},
     "output_type": "execute_result"
    },
    {
     "data": {
      "image/png": "[encoded data removed]",
      "text/plain": [
       "<Figure size 432x288 with 1 Axes>"
      ]
     },
     "metadata": {
      "needs_background": "light"
     },
     "output_type": "display_data"
    }
   ],
   "source": [
    "sns.countplot(x='srch_rm_cnt', data=df)"
   ]
  },
  {
   "cell_type": "code",
   "execution_count": 19,
   "id": "566a869f",
   "metadata": {},
   "outputs": [
    {
     "data": {
      "text/plain": [
       "1    61824\n",
       "6    22256\n",
       "3     7037\n",
       "5     5092\n",
       "4     3301\n",
       "8      481\n",
       "7        5\n",
       "9        4\n",
       "Name: srch_destination_type_id, dtype: int64"
      ]
     },
     "execution_count": 19,
     "metadata": {},
     "output_type": "execute_result"
    }
   ],
   "source": [
    "df['srch_destination_type_id'].value_counts()"
   ]
  },
  {
   "cell_type": "code",
   "execution_count": 20,
   "id": "ca369c27",
   "metadata": {},
   "outputs": [
    {
     "data": {
      "text/plain": [
       "2    52859\n",
       "6    20933\n",
       "3    12020\n",
       "4    11908\n",
       "0     1151\n",
       "5     1129\n",
       "Name: hotel_continent, dtype: int64"
      ]
     },
     "execution_count": 20,
     "metadata": {},
     "output_type": "execute_result"
    }
   ],
   "source": [
    "df['hotel_continent'].value_counts()"
   ]
  },
  {
   "cell_type": "code",
   "execution_count": 21,
   "id": "6fb35de7",
   "metadata": {},
   "outputs": [
    {
     "data": {
      "image/png": "[encoded data removed]",
      "text/plain": [
       "<Figure size 660x440 with 1 Axes>"
      ]
     },
     "metadata": {
      "needs_background": "light"
     },
     "output_type": "display_data"
    }
   ],
   "source": [
    "plt.figure(figsize=(6,4),dpi=110)\n",
    "sns.countplot(x='hotel_continent', data=df)\n",
    "plt.show()"
   ]
  },
  {
   "cell_type": "code",
   "execution_count": 22,
   "id": "d160946f",
   "metadata": {},
   "outputs": [
    {
     "data": {
      "text/plain": [
       "50     48666\n",
       "8       5035\n",
       "198     4193\n",
       "105     3761\n",
       "70      3354\n",
       "       ...  \n",
       "178        1\n",
       "3          1\n",
       "167        1\n",
       "38         1\n",
       "120        1\n",
       "Name: hotel_country, Length: 152, dtype: int64"
      ]
     },
     "execution_count": 22,
     "metadata": {},
     "output_type": "execute_result"
    }
   ],
   "source": [
    "df['hotel_country'].value_counts()"
   ]
  },
  {
   "cell_type": "code",
   "execution_count": 23,
   "id": "05871ac2",
   "metadata": {},
   "outputs": [
    {
     "data": {
      "text/plain": [
       "628     4710\n",
       "675     3804\n",
       "682     2483\n",
       "19      2042\n",
       "365     1921\n",
       "        ... \n",
       "1760       1\n",
       "1376       1\n",
       "992        1\n",
       "864        1\n",
       "786        1\n",
       "Name: hotel_market, Length: 1531, dtype: int64"
      ]
     },
     "execution_count": 23,
     "metadata": {},
     "output_type": "execute_result"
    }
   ],
   "source": [
    "df['hotel_market'].value_counts()"
   ]
  },
  {
   "cell_type": "code",
   "execution_count": 24,
   "id": "378f9ea7",
   "metadata": {},
   "outputs": [
    {
     "data": {
      "text/plain": [
       "0    0.9173\n",
       "1    0.0827\n",
       "Name: is_booking, dtype: float64"
      ]
     },
     "execution_count": 24,
     "metadata": {},
     "output_type": "execute_result"
    }
   ],
   "source": [
    "df['is_booking'].value_counts(normalize=True)"
   ]
  },
  {
   "cell_type": "markdown",
   "id": "1e1c7793",
   "metadata": {},
   "source": [
    "## Distribution of the target variable: Whether or not someone booked a hotel"
   ]
  },
  {
   "cell_type": "code",
   "execution_count": 25,
   "id": "4ebff2ed",
   "metadata": {},
   "outputs": [
    {
     "data": {
      "image/png": "[encoded data removed]",
      "text/plain": [
       "<Figure size 432x288 with 1 Axes>"
      ]
     },
     "metadata": {
      "needs_background": "light"
     },
     "output_type": "display_data"
    }
   ],
   "source": [
    "sns.countplot(x='is_booking', data=df)\n",
    "plt.show()"
   ]
  },
  {
   "cell_type": "markdown",
   "id": "eabbee44",
   "metadata": {},
   "source": [
    "## Building Predictive Models\n",
    "Our attempt will be to build predictive models that can predict whether a user books a hotel.  \n",
    "Here we create a new dataframe with only the features we are interested in."
   ]
  },
  {
   "cell_type": "code",
   "execution_count": 26,
   "id": "21d2e523",
   "metadata": {},
   "outputs": [],
   "source": [
    "df = df[['posa_continent','is_mobile','is_package','srch_adults_cnt','srch_children_cnt',\n",
    "         'srch_rm_cnt','hotel_continent','is_booking']]"
   ]
  },
  {
   "cell_type": "code",
   "execution_count": 27,
   "id": "74a572ae",
   "metadata": {},
   "outputs": [
    {
     "data": {
      "text/plain": [
       "posa_continent       0\n",
       "is_mobile            0\n",
       "is_package           0\n",
       "srch_adults_cnt      0\n",
       "srch_children_cnt    0\n",
       "srch_rm_cnt          0\n",
       "hotel_continent      0\n",
       "is_booking           0\n",
       "dtype: int64"
      ]
     },
     "execution_count": 27,
     "metadata": {},
     "output_type": "execute_result"
    }
   ],
   "source": [
    "df.isnull().sum()"
   ]
  },
  {
   "cell_type": "markdown",
   "id": "0db8ee36",
   "metadata": {},
   "source": [
    "## Creating Dummy Variables for Categorical Features"
   ]
  },
  {
   "cell_type": "code",
   "execution_count": 28,
   "id": "88d4977c",
   "metadata": {},
   "outputs": [],
   "source": [
    "from pandas.core.reshape.reshape import get_dummies"
   ]
  },
  {
   "cell_type": "code",
   "execution_count": 29,
   "id": "ec8979de",
   "metadata": {},
   "outputs": [],
   "source": [
    "df = pd.get_dummies(df, columns=['posa_continent','is_mobile','is_package','hotel_continent'], drop_first=True)"
   ]
  },
  {
   "cell_type": "code",
   "execution_count": 30,
   "id": "15bfb46a",
   "metadata": {},
   "outputs": [
    {
     "data": {
      "text/html": [
       "<div>\n",
       "<style scoped>\n",
       "    .dataframe tbody tr th:only-of-type {\n",
       "        vertical-align: middle;\n",
       "    }\n",
       "\n",
       "    .dataframe tbody tr th {\n",
       "        vertical-align: top;\n",
       "    }\n",
       "\n",
       "    .dataframe thead th {\n",
       "        text-align: right;\n",
       "    }\n",
       "</style>\n",
       "<table border=\"1\" class=\"dataframe\">\n",
       "  <thead>\n",
       "    <tr style=\"text-align: right;\">\n",
       "      <th></th>\n",
       "      <th>srch_adults_cnt</th>\n",
       "      <th>srch_children_cnt</th>\n",
       "      <th>srch_rm_cnt</th>\n",
       "      <th>is_booking</th>\n",
       "      <th>posa_continent_1</th>\n",
       "      <th>posa_continent_2</th>\n",
       "      <th>posa_continent_3</th>\n",
       "      <th>posa_continent_4</th>\n",
       "      <th>is_mobile_1</th>\n",
       "      <th>is_package_1</th>\n",
       "      <th>hotel_continent_2</th>\n",
       "      <th>hotel_continent_3</th>\n",
       "      <th>hotel_continent_4</th>\n",
       "      <th>hotel_continent_5</th>\n",
       "      <th>hotel_continent_6</th>\n",
       "    </tr>\n",
       "  </thead>\n",
       "  <tbody>\n",
       "    <tr>\n",
       "      <th>0</th>\n",
       "      <td>2</td>\n",
       "      <td>0</td>\n",
       "      <td>1</td>\n",
       "      <td>0</td>\n",
       "      <td>0</td>\n",
       "      <td>0</td>\n",
       "      <td>1</td>\n",
       "      <td>0</td>\n",
       "      <td>0</td>\n",
       "      <td>1</td>\n",
       "      <td>1</td>\n",
       "      <td>0</td>\n",
       "      <td>0</td>\n",
       "      <td>0</td>\n",
       "      <td>0</td>\n",
       "    </tr>\n",
       "    <tr>\n",
       "      <th>1</th>\n",
       "      <td>2</td>\n",
       "      <td>0</td>\n",
       "      <td>1</td>\n",
       "      <td>1</td>\n",
       "      <td>0</td>\n",
       "      <td>0</td>\n",
       "      <td>1</td>\n",
       "      <td>0</td>\n",
       "      <td>0</td>\n",
       "      <td>1</td>\n",
       "      <td>1</td>\n",
       "      <td>0</td>\n",
       "      <td>0</td>\n",
       "      <td>0</td>\n",
       "      <td>0</td>\n",
       "    </tr>\n",
       "    <tr>\n",
       "      <th>2</th>\n",
       "      <td>2</td>\n",
       "      <td>0</td>\n",
       "      <td>1</td>\n",
       "      <td>0</td>\n",
       "      <td>0</td>\n",
       "      <td>0</td>\n",
       "      <td>1</td>\n",
       "      <td>0</td>\n",
       "      <td>0</td>\n",
       "      <td>0</td>\n",
       "      <td>1</td>\n",
       "      <td>0</td>\n",
       "      <td>0</td>\n",
       "      <td>0</td>\n",
       "      <td>0</td>\n",
       "    </tr>\n",
       "    <tr>\n",
       "      <th>3</th>\n",
       "      <td>2</td>\n",
       "      <td>0</td>\n",
       "      <td>1</td>\n",
       "      <td>0</td>\n",
       "      <td>0</td>\n",
       "      <td>0</td>\n",
       "      <td>1</td>\n",
       "      <td>0</td>\n",
       "      <td>0</td>\n",
       "      <td>0</td>\n",
       "      <td>1</td>\n",
       "      <td>0</td>\n",
       "      <td>0</td>\n",
       "      <td>0</td>\n",
       "      <td>0</td>\n",
       "    </tr>\n",
       "    <tr>\n",
       "      <th>4</th>\n",
       "      <td>2</td>\n",
       "      <td>0</td>\n",
       "      <td>1</td>\n",
       "      <td>0</td>\n",
       "      <td>0</td>\n",
       "      <td>0</td>\n",
       "      <td>1</td>\n",
       "      <td>0</td>\n",
       "      <td>0</td>\n",
       "      <td>0</td>\n",
       "      <td>1</td>\n",
       "      <td>0</td>\n",
       "      <td>0</td>\n",
       "      <td>0</td>\n",
       "      <td>0</td>\n",
       "    </tr>\n",
       "    <tr>\n",
       "      <th>...</th>\n",
       "      <td>...</td>\n",
       "      <td>...</td>\n",
       "      <td>...</td>\n",
       "      <td>...</td>\n",
       "      <td>...</td>\n",
       "      <td>...</td>\n",
       "      <td>...</td>\n",
       "      <td>...</td>\n",
       "      <td>...</td>\n",
       "      <td>...</td>\n",
       "      <td>...</td>\n",
       "      <td>...</td>\n",
       "      <td>...</td>\n",
       "      <td>...</td>\n",
       "      <td>...</td>\n",
       "    </tr>\n",
       "    <tr>\n",
       "      <th>99995</th>\n",
       "      <td>2</td>\n",
       "      <td>0</td>\n",
       "      <td>1</td>\n",
       "      <td>0</td>\n",
       "      <td>1</td>\n",
       "      <td>0</td>\n",
       "      <td>0</td>\n",
       "      <td>0</td>\n",
       "      <td>0</td>\n",
       "      <td>0</td>\n",
       "      <td>0</td>\n",
       "      <td>0</td>\n",
       "      <td>0</td>\n",
       "      <td>0</td>\n",
       "      <td>1</td>\n",
       "    </tr>\n",
       "    <tr>\n",
       "      <th>99996</th>\n",
       "      <td>2</td>\n",
       "      <td>0</td>\n",
       "      <td>1</td>\n",
       "      <td>0</td>\n",
       "      <td>1</td>\n",
       "      <td>0</td>\n",
       "      <td>0</td>\n",
       "      <td>0</td>\n",
       "      <td>0</td>\n",
       "      <td>0</td>\n",
       "      <td>0</td>\n",
       "      <td>0</td>\n",
       "      <td>0</td>\n",
       "      <td>0</td>\n",
       "      <td>1</td>\n",
       "    </tr>\n",
       "    <tr>\n",
       "      <th>99997</th>\n",
       "      <td>2</td>\n",
       "      <td>0</td>\n",
       "      <td>1</td>\n",
       "      <td>0</td>\n",
       "      <td>1</td>\n",
       "      <td>0</td>\n",
       "      <td>0</td>\n",
       "      <td>0</td>\n",
       "      <td>0</td>\n",
       "      <td>0</td>\n",
       "      <td>0</td>\n",
       "      <td>0</td>\n",
       "      <td>0</td>\n",
       "      <td>0</td>\n",
       "      <td>1</td>\n",
       "    </tr>\n",
       "    <tr>\n",
       "      <th>99998</th>\n",
       "      <td>2</td>\n",
       "      <td>0</td>\n",
       "      <td>1</td>\n",
       "      <td>0</td>\n",
       "      <td>1</td>\n",
       "      <td>0</td>\n",
       "      <td>0</td>\n",
       "      <td>0</td>\n",
       "      <td>0</td>\n",
       "      <td>0</td>\n",
       "      <td>0</td>\n",
       "      <td>0</td>\n",
       "      <td>0</td>\n",
       "      <td>0</td>\n",
       "      <td>1</td>\n",
       "    </tr>\n",
       "    <tr>\n",
       "      <th>99999</th>\n",
       "      <td>2</td>\n",
       "      <td>0</td>\n",
       "      <td>1</td>\n",
       "      <td>0</td>\n",
       "      <td>1</td>\n",
       "      <td>0</td>\n",
       "      <td>0</td>\n",
       "      <td>0</td>\n",
       "      <td>0</td>\n",
       "      <td>0</td>\n",
       "      <td>0</td>\n",
       "      <td>0</td>\n",
       "      <td>0</td>\n",
       "      <td>0</td>\n",
       "      <td>1</td>\n",
       "    </tr>\n",
       "  </tbody>\n",
       "</table>\n",
       "<p>100000 rows × 15 columns</p>\n",
       "</div>"
      ],
      "text/plain": [
       "       srch_adults_cnt  srch_children_cnt  srch_rm_cnt  is_booking  \\\n",
       "0                    2                  0            1           0   \n",
       "1                    2                  0            1           1   \n",
       "2                    2                  0            1           0   \n",
       "3                    2                  0            1           0   \n",
       "4                    2                  0            1           0   \n",
       "...                ...                ...          ...         ...   \n",
       "99995                2                  0            1           0   \n",
       "99996                2                  0            1           0   \n",
       "99997                2                  0            1           0   \n",
       "99998                2                  0            1           0   \n",
       "99999                2                  0            1           0   \n",
       "\n",
       "       posa_continent_1  posa_continent_2  posa_continent_3  posa_continent_4  \\\n",
       "0                     0                 0                 1                 0   \n",
       "1                     0                 0                 1                 0   \n",
       "2                     0                 0                 1                 0   \n",
       "3                     0                 0                 1                 0   \n",
       "4                     0                 0                 1                 0   \n",
       "...                 ...               ...               ...               ...   \n",
       "99995                 1                 0                 0                 0   \n",
       "99996                 1                 0                 0                 0   \n",
       "99997                 1                 0                 0                 0   \n",
       "99998                 1                 0                 0                 0   \n",
       "99999                 1                 0                 0                 0   \n",
       "\n",
       "       is_mobile_1  is_package_1  hotel_continent_2  hotel_continent_3  \\\n",
       "0                0             1                  1                  0   \n",
       "1                0             1                  1                  0   \n",
       "2                0             0                  1                  0   \n",
       "3                0             0                  1                  0   \n",
       "4                0             0                  1                  0   \n",
       "...            ...           ...                ...                ...   \n",
       "99995            0             0                  0                  0   \n",
       "99996            0             0                  0                  0   \n",
       "99997            0             0                  0                  0   \n",
       "99998            0             0                  0                  0   \n",
       "99999            0             0                  0                  0   \n",
       "\n",
       "       hotel_continent_4  hotel_continent_5  hotel_continent_6  \n",
       "0                      0                  0                  0  \n",
       "1                      0                  0                  0  \n",
       "2                      0                  0                  0  \n",
       "3                      0                  0                  0  \n",
       "4                      0                  0                  0  \n",
       "...                  ...                ...                ...  \n",
       "99995                  0                  0                  1  \n",
       "99996                  0                  0                  1  \n",
       "99997                  0                  0                  1  \n",
       "99998                  0                  0                  1  \n",
       "99999                  0                  0                  1  \n",
       "\n",
       "[100000 rows x 15 columns]"
      ]
     },
     "execution_count": 30,
     "metadata": {},
     "output_type": "execute_result"
    }
   ],
   "source": [
    "df"
   ]
  },
  {
   "cell_type": "markdown",
   "id": "2ebe8e25",
   "metadata": {},
   "source": [
    "## Train Test Split"
   ]
  },
  {
   "cell_type": "code",
   "execution_count": 31,
   "id": "73a3aa32",
   "metadata": {},
   "outputs": [],
   "source": [
    "from sklearn.model_selection import train_test_split"
   ]
  },
  {
   "cell_type": "code",
   "execution_count": 32,
   "id": "cc3db618",
   "metadata": {},
   "outputs": [],
   "source": [
    "X = df.drop('is_booking', axis =1)\n",
    "y = df[\"is_booking\"]"
   ]
  },
  {
   "cell_type": "code",
   "execution_count": 33,
   "id": "aeab5cc8",
   "metadata": {},
   "outputs": [],
   "source": [
    "X_train, X_test, y_train, y_test = train_test_split(X, y, test_size=0.20, random_state=101)"
   ]
  },
  {
   "cell_type": "code",
   "execution_count": 34,
   "id": "2a0f5f6d",
   "metadata": {},
   "outputs": [
    {
     "data": {
      "text/plain": [
       "(80000, 14)"
      ]
     },
     "execution_count": 34,
     "metadata": {},
     "output_type": "execute_result"
    }
   ],
   "source": [
    "X_train.shape"
   ]
  },
  {
   "cell_type": "code",
   "execution_count": 35,
   "id": "fef6b364",
   "metadata": {},
   "outputs": [
    {
     "data": {
      "text/plain": [
       "(20000, 14)"
      ]
     },
     "execution_count": 35,
     "metadata": {},
     "output_type": "execute_result"
    }
   ],
   "source": [
    "X_test.shape"
   ]
  },
  {
   "cell_type": "markdown",
   "id": "de53d4c8",
   "metadata": {},
   "source": [
    "## Pre-Processing for Model Building"
   ]
  },
  {
   "cell_type": "code",
   "execution_count": 36,
   "id": "bc08e202",
   "metadata": {},
   "outputs": [],
   "source": [
    "from sklearn.preprocessing import StandardScaler\n",
    "from sklearn.linear_model import LogisticRegression"
   ]
  },
  {
   "cell_type": "code",
   "execution_count": 37,
   "id": "8b9b8dbf",
   "metadata": {},
   "outputs": [],
   "source": [
    "scaler = StandardScaler()"
   ]
  },
  {
   "cell_type": "code",
   "execution_count": 38,
   "id": "ed73fc8f",
   "metadata": {},
   "outputs": [],
   "source": [
    "X_train = scaler.fit_transform(X_train)"
   ]
  },
  {
   "cell_type": "code",
   "execution_count": 39,
   "id": "512cf5e0",
   "metadata": {},
   "outputs": [],
   "source": [
    "X_test = scaler.transform(X_test)"
   ]
  },
  {
   "cell_type": "markdown",
   "id": "e94d0f87",
   "metadata": {},
   "source": [
    "## Model Building, Prediction and Performance"
   ]
  },
  {
   "cell_type": "code",
   "execution_count": 40,
   "id": "32d19636",
   "metadata": {},
   "outputs": [],
   "source": [
    "model = LogisticRegression()"
   ]
  },
  {
   "cell_type": "code",
   "execution_count": 41,
   "id": "409f0250",
   "metadata": {},
   "outputs": [
    {
     "data": {
      "text/plain": [
       "LogisticRegression()"
      ]
     },
     "execution_count": 41,
     "metadata": {},
     "output_type": "execute_result"
    }
   ],
   "source": [
    "model.fit(X_train,y_train)"
   ]
  },
  {
   "cell_type": "code",
   "execution_count": 42,
   "id": "afe3608b",
   "metadata": {},
   "outputs": [],
   "source": [
    "y_pred = model.predict(X_test)"
   ]
  },
  {
   "cell_type": "code",
   "execution_count": 43,
   "id": "3dfe00d4",
   "metadata": {},
   "outputs": [],
   "source": [
    "from sklearn.metrics import classification_report, confusion_matrix"
   ]
  },
  {
   "cell_type": "code",
   "execution_count": 44,
   "id": "bf2a6034",
   "metadata": {},
   "outputs": [
    {
     "name": "stdout",
     "output_type": "stream",
     "text": [
      "              precision    recall  f1-score   support\n",
      "\n",
      "           0       0.92      1.00      0.96     18323\n",
      "           1       0.00      0.00      0.00      1677\n",
      "\n",
      "    accuracy                           0.92     20000\n",
      "   macro avg       0.46      0.50      0.48     20000\n",
      "weighted avg       0.84      0.92      0.88     20000\n",
      "\n"
     ]
    }
   ],
   "source": [
    "print(classification_report(y_test, y_pred))"
   ]
  },
  {
   "cell_type": "markdown",
   "id": "7108c45f",
   "metadata": {},
   "source": [
    "## Imbalanced Class Problem"
   ]
  },
  {
   "cell_type": "code",
   "execution_count": 45,
   "id": "8b3e1dca",
   "metadata": {},
   "outputs": [
    {
     "data": {
      "text/plain": [
       "0    0.9173\n",
       "1    0.0827\n",
       "Name: is_booking, dtype: float64"
      ]
     },
     "execution_count": 45,
     "metadata": {},
     "output_type": "execute_result"
    }
   ],
   "source": [
    "df['is_booking'].value_counts(normalize=True)"
   ]
  },
  {
   "cell_type": "code",
   "execution_count": 46,
   "id": "e7a0178f",
   "metadata": {},
   "outputs": [
    {
     "name": "stdout",
     "output_type": "stream",
     "text": [
      "Requirement already satisfied: imblearn in /home/ec2-user/anaconda3/envs/python3/lib/python3.6/site-packages (0.0)\n",
      "Requirement already satisfied: imbalanced-learn in /home/ec2-user/anaconda3/envs/python3/lib/python3.6/site-packages (from imblearn) (0.8.1)\n",
      "Requirement already satisfied: scikit-learn>=0.24 in /home/ec2-user/anaconda3/envs/python3/lib/python3.6/site-packages (from imbalanced-learn->imblearn) (0.24.1)\n",
      "Requirement already satisfied: scipy>=0.19.1 in /home/ec2-user/anaconda3/envs/python3/lib/python3.6/site-packages (from imbalanced-learn->imblearn) (1.5.3)\n",
      "Requirement already satisfied: joblib>=0.11 in /home/ec2-user/anaconda3/envs/python3/lib/python3.6/site-packages (from imbalanced-learn->imblearn) (1.0.1)\n",
      "Requirement already satisfied: numpy>=1.13.3 in /home/ec2-user/anaconda3/envs/python3/lib/python3.6/site-packages (from imbalanced-learn->imblearn) (1.19.5)\n",
      "Requirement already satisfied: threadpoolctl>=2.0.0 in /home/ec2-user/anaconda3/envs/python3/lib/python3.6/site-packages (from scikit-learn>=0.24->imbalanced-learn->imblearn) (2.1.0)\n",
      "Note: you may need to restart the kernel to use updated packages.\n"
     ]
    }
   ],
   "source": [
    "pip install imblearn"
   ]
  },
  {
   "cell_type": "code",
   "execution_count": 47,
   "id": "f263e499",
   "metadata": {},
   "outputs": [],
   "source": [
    "from imblearn.over_sampling import SMOTE\n",
    "sm = SMOTE(random_state = 2)\n",
    "X_train_res, y_train_res = sm.fit_resample(X_train, y_train.ravel())"
   ]
  },
  {
   "cell_type": "code",
   "execution_count": 48,
   "id": "cc97bf33",
   "metadata": {},
   "outputs": [
    {
     "data": {
      "text/plain": [
       "(146814, 14)"
      ]
     },
     "execution_count": 48,
     "metadata": {},
     "output_type": "execute_result"
    }
   ],
   "source": [
    "X_train_res.shape"
   ]
  },
  {
   "cell_type": "code",
   "execution_count": 49,
   "id": "b13344bd",
   "metadata": {},
   "outputs": [
    {
     "data": {
      "text/plain": [
       "(80000, 14)"
      ]
     },
     "execution_count": 49,
     "metadata": {},
     "output_type": "execute_result"
    }
   ],
   "source": [
    "X_train.shape"
   ]
  },
  {
   "cell_type": "code",
   "execution_count": 50,
   "id": "2c7558c8",
   "metadata": {},
   "outputs": [
    {
     "data": {
      "text/plain": [
       "(146814,)"
      ]
     },
     "execution_count": 50,
     "metadata": {},
     "output_type": "execute_result"
    }
   ],
   "source": [
    "y_train_res.shape"
   ]
  },
  {
   "cell_type": "code",
   "execution_count": 51,
   "id": "83315f05",
   "metadata": {},
   "outputs": [],
   "source": [
    "lr1 = LogisticRegression()"
   ]
  },
  {
   "cell_type": "code",
   "execution_count": 52,
   "id": "57f3e527",
   "metadata": {},
   "outputs": [
    {
     "data": {
      "text/plain": [
       "LogisticRegression()"
      ]
     },
     "execution_count": 52,
     "metadata": {},
     "output_type": "execute_result"
    }
   ],
   "source": [
    "lr1.fit(X_train_res, y_train_res.ravel())"
   ]
  },
  {
   "cell_type": "code",
   "execution_count": 53,
   "id": "10eddebb",
   "metadata": {},
   "outputs": [],
   "source": [
    "predictions = lr1.predict(X_test)"
   ]
  },
  {
   "cell_type": "code",
   "execution_count": 54,
   "id": "3b0bf82d",
   "metadata": {},
   "outputs": [
    {
     "name": "stdout",
     "output_type": "stream",
     "text": [
      "              precision    recall  f1-score   support\n",
      "\n",
      "           0       0.94      0.53      0.68     18323\n",
      "           1       0.11      0.64      0.19      1677\n",
      "\n",
      "    accuracy                           0.54     20000\n",
      "   macro avg       0.53      0.58      0.43     20000\n",
      "weighted avg       0.87      0.54      0.64     20000\n",
      "\n"
     ]
    }
   ],
   "source": [
    "print(classification_report(y_test, predictions))"
   ]
  },
  {
   "cell_type": "code",
   "execution_count": 55,
   "id": "81df1e03",
   "metadata": {
    "scrolled": true
   },
   "outputs": [],
   "source": [
    "#pip install tensorflow"
   ]
  },
  {
   "cell_type": "markdown",
   "id": "5fe88873",
   "metadata": {},
   "source": [
    "# Deep Neural Network"
   ]
  },
  {
   "cell_type": "code",
   "execution_count": 56,
   "id": "e9bee9e5",
   "metadata": {},
   "outputs": [],
   "source": [
    "import tensorflow as tf"
   ]
  },
  {
   "cell_type": "code",
   "execution_count": 57,
   "id": "1f11fbfd",
   "metadata": {},
   "outputs": [],
   "source": [
    "from tensorflow.keras.models import Sequential\n",
    "from tensorflow.keras.layers import Dense,Dropout\n",
    "from tensorflow.keras.callbacks import EarlyStopping"
   ]
  },
  {
   "cell_type": "code",
   "execution_count": 58,
   "id": "904a7c62",
   "metadata": {},
   "outputs": [],
   "source": [
    "from sklearn.model_selection import train_test_split\n",
    "\n",
    "# Split the data\n",
    "x_train, x_valid, y_train, y_valid = train_test_split(X_train_res, y_train_res, test_size=0.20, \n",
    "                                                      random_state=101,shuffle= True)"
   ]
  },
  {
   "cell_type": "code",
   "execution_count": 59,
   "id": "183928f8",
   "metadata": {},
   "outputs": [],
   "source": [
    "model = Sequential()\n",
    "\n",
    "model.add(Dense(28,activation = 'relu'))\n",
    "model.add(Dropout(0.2))\n",
    "\n",
    "model.add(Dense(14,activation = 'relu'))\n",
    "model.add(Dropout(0.2))\n",
    "\n",
    "model.add(Dense(10,activation = 'relu'))\n",
    "model.add(Dropout(0.2))\n",
    "\n",
    "model.add(Dense(1,activation = 'sigmoid'))"
   ]
  },
  {
   "cell_type": "code",
   "execution_count": 60,
   "id": "153a177c",
   "metadata": {},
   "outputs": [],
   "source": [
    "early_stop = EarlyStopping(monitor='val_loss',mode = 'min',verbose=1,patience=20)"
   ]
  },
  {
   "cell_type": "code",
   "execution_count": 61,
   "id": "01a0c61d",
   "metadata": {},
   "outputs": [],
   "source": [
    "lr_schedule = 1e-3\n",
    "\n",
    "model.compile(optimizer = tf.keras.optimizers.Adam(learning_rate=lr_schedule),\n",
    "              loss = 'binary_crossentropy')"
   ]
  },
  {
   "cell_type": "code",
   "execution_count": 62,
   "id": "3dfe2db8",
   "metadata": {},
   "outputs": [
    {
     "name": "stdout",
     "output_type": "stream",
     "text": [
      "Epoch 1/250\n",
      "918/918 [==============================] - 2s 2ms/step - loss: 0.6775 - val_loss: 0.6596\n",
      "Epoch 2/250\n",
      "918/918 [==============================] - 2s 2ms/step - loss: 0.6663 - val_loss: 0.6560\n",
      "Epoch 3/250\n",
      "918/918 [==============================] - 2s 2ms/step - loss: 0.6633 - val_loss: 0.6556\n",
      "Epoch 4/250\n",
      "918/918 [==============================] - 2s 2ms/step - loss: 0.6615 - val_loss: 0.6528\n",
      "Epoch 5/250\n",
      "918/918 [==============================] - 1s 2ms/step - loss: 0.6605 - val_loss: 0.6525\n",
      "Epoch 6/250\n",
      "918/918 [==============================] - 1s 1ms/step - loss: 0.6599 - val_loss: 0.6523\n",
      "Epoch 7/250\n",
      "918/918 [==============================] - 2s 2ms/step - loss: 0.6588 - val_loss: 0.6510\n",
      "Epoch 8/250\n",
      "918/918 [==============================] - 1s 1ms/step - loss: 0.6587 - val_loss: 0.6510\n",
      "Epoch 9/250\n",
      "918/918 [==============================] - 1s 1ms/step - loss: 0.6581 - val_loss: 0.6509\n",
      "Epoch 10/250\n",
      "918/918 [==============================] - 1s 2ms/step - loss: 0.6572 - val_loss: 0.6493\n",
      "Epoch 11/250\n",
      "918/918 [==============================] - 1s 1ms/step - loss: 0.6570 - val_loss: 0.6500\n",
      "Epoch 12/250\n",
      "918/918 [==============================] - 1s 2ms/step - loss: 0.6570 - val_loss: 0.6500\n",
      "Epoch 13/250\n",
      "918/918 [==============================] - 1s 2ms/step - loss: 0.6568 - val_loss: 0.6489\n",
      "Epoch 14/250\n",
      "918/918 [==============================] - 1s 1ms/step - loss: 0.6564 - val_loss: 0.6489\n",
      "Epoch 15/250\n",
      "918/918 [==============================] - 1s 2ms/step - loss: 0.6554 - val_loss: 0.6494\n",
      "Epoch 16/250\n",
      "918/918 [==============================] - 1s 2ms/step - loss: 0.6557 - val_loss: 0.6479\n",
      "Epoch 17/250\n",
      "918/918 [==============================] - 2s 2ms/step - loss: 0.6557 - val_loss: 0.6477\n",
      "Epoch 18/250\n",
      "918/918 [==============================] - 2s 2ms/step - loss: 0.6551 - val_loss: 0.6480\n",
      "Epoch 19/250\n",
      "918/918 [==============================] - 1s 2ms/step - loss: 0.6546 - val_loss: 0.6479\n",
      "Epoch 20/250\n",
      "918/918 [==============================] - 1s 1ms/step - loss: 0.6544 - val_loss: 0.6475\n",
      "Epoch 21/250\n",
      "918/918 [==============================] - 1s 1ms/step - loss: 0.6541 - val_loss: 0.6467\n",
      "Epoch 22/250\n",
      "918/918 [==============================] - 1s 1ms/step - loss: 0.6546 - val_loss: 0.6478\n",
      "Epoch 23/250\n",
      "918/918 [==============================] - 2s 2ms/step - loss: 0.6537 - val_loss: 0.6467\n",
      "Epoch 24/250\n",
      "918/918 [==============================] - 2s 2ms/step - loss: 0.6538 - val_loss: 0.6461\n",
      "Epoch 25/250\n",
      "918/918 [==============================] - 1s 1ms/step - loss: 0.6537 - val_loss: 0.6466\n",
      "Epoch 26/250\n",
      "918/918 [==============================] - 1s 2ms/step - loss: 0.6534 - val_loss: 0.6461\n",
      "Epoch 27/250\n",
      "918/918 [==============================] - 2s 2ms/step - loss: 0.6537 - val_loss: 0.6464\n",
      "Epoch 28/250\n",
      "918/918 [==============================] - 1s 1ms/step - loss: 0.6537 - val_loss: 0.6465\n",
      "Epoch 29/250\n",
      "918/918 [==============================] - 2s 2ms/step - loss: 0.6531 - val_loss: 0.6456\n",
      "Epoch 30/250\n",
      "918/918 [==============================] - 1s 2ms/step - loss: 0.6536 - val_loss: 0.6450\n",
      "Epoch 31/250\n",
      "918/918 [==============================] - 1s 2ms/step - loss: 0.6527 - val_loss: 0.6459\n",
      "Epoch 32/250\n",
      "918/918 [==============================] - 1s 1ms/step - loss: 0.6528 - val_loss: 0.6457\n",
      "Epoch 33/250\n",
      "918/918 [==============================] - 2s 2ms/step - loss: 0.6534 - val_loss: 0.6466\n",
      "Epoch 34/250\n",
      "918/918 [==============================] - 1s 1ms/step - loss: 0.6528 - val_loss: 0.6459\n",
      "Epoch 35/250\n",
      "918/918 [==============================] - 1s 1ms/step - loss: 0.6523 - val_loss: 0.6446\n",
      "Epoch 36/250\n",
      "918/918 [==============================] - 2s 2ms/step - loss: 0.6520 - val_loss: 0.6456\n",
      "Epoch 37/250\n",
      "918/918 [==============================] - 2s 2ms/step - loss: 0.6526 - val_loss: 0.6444\n",
      "Epoch 38/250\n",
      "918/918 [==============================] - 1s 2ms/step - loss: 0.6523 - val_loss: 0.6470\n",
      "Epoch 39/250\n",
      "918/918 [==============================] - 1s 2ms/step - loss: 0.6529 - val_loss: 0.6459\n",
      "Epoch 40/250\n",
      "918/918 [==============================] - 1s 1ms/step - loss: 0.6524 - val_loss: 0.6445\n",
      "Epoch 41/250\n",
      "918/918 [==============================] - 1s 1ms/step - loss: 0.6530 - val_loss: 0.6456\n",
      "Epoch 42/250\n",
      "918/918 [==============================] - 1s 2ms/step - loss: 0.6524 - val_loss: 0.6450\n",
      "Epoch 43/250\n",
      "918/918 [==============================] - 1s 1ms/step - loss: 0.6520 - val_loss: 0.6454\n",
      "Epoch 44/250\n",
      "918/918 [==============================] - 1s 1ms/step - loss: 0.6524 - val_loss: 0.6445\n",
      "Epoch 45/250\n",
      "918/918 [==============================] - 1s 1ms/step - loss: 0.6521 - val_loss: 0.6442\n",
      "Epoch 46/250\n",
      "918/918 [==============================] - 1s 1ms/step - loss: 0.6517 - val_loss: 0.6442\n",
      "Epoch 47/250\n",
      "918/918 [==============================] - 1s 1ms/step - loss: 0.6521 - val_loss: 0.6442\n",
      "Epoch 48/250\n",
      "918/918 [==============================] - 2s 2ms/step - loss: 0.6526 - val_loss: 0.6452\n",
      "Epoch 49/250\n",
      "918/918 [==============================] - 1s 1ms/step - loss: 0.6514 - val_loss: 0.6456\n",
      "Epoch 50/250\n",
      "918/918 [==============================] - 1s 1ms/step - loss: 0.6521 - val_loss: 0.6449\n",
      "Epoch 51/250\n",
      "918/918 [==============================] - 1s 1ms/step - loss: 0.6517 - val_loss: 0.6444\n",
      "Epoch 52/250\n",
      "918/918 [==============================] - 1s 2ms/step - loss: 0.6522 - val_loss: 0.6446\n",
      "Epoch 53/250\n",
      "918/918 [==============================] - 1s 1ms/step - loss: 0.6514 - val_loss: 0.6437\n",
      "Epoch 54/250\n",
      "918/918 [==============================] - 1s 2ms/step - loss: 0.6515 - val_loss: 0.6442\n",
      "Epoch 55/250\n",
      "918/918 [==============================] - 1s 2ms/step - loss: 0.6523 - val_loss: 0.6444\n",
      "Epoch 56/250\n",
      "918/918 [==============================] - 1s 1ms/step - loss: 0.6514 - val_loss: 0.6452\n",
      "Epoch 57/250\n",
      "918/918 [==============================] - 2s 2ms/step - loss: 0.6517 - val_loss: 0.6441\n",
      "Epoch 58/250\n",
      "918/918 [==============================] - 1s 2ms/step - loss: 0.6519 - val_loss: 0.6440\n",
      "Epoch 59/250\n",
      "918/918 [==============================] - 1s 1ms/step - loss: 0.6519 - val_loss: 0.6437\n",
      "Epoch 60/250\n",
      "918/918 [==============================] - 1s 1ms/step - loss: 0.6519 - val_loss: 0.6442\n",
      "Epoch 61/250\n",
      "918/918 [==============================] - 2s 2ms/step - loss: 0.6513 - val_loss: 0.6440\n",
      "Epoch 62/250\n",
      "918/918 [==============================] - 1s 1ms/step - loss: 0.6514 - val_loss: 0.6428\n",
      "Epoch 63/250\n",
      "918/918 [==============================] - 1s 1ms/step - loss: 0.6522 - val_loss: 0.6438\n",
      "Epoch 64/250\n",
      "918/918 [==============================] - 1s 2ms/step - loss: 0.6513 - val_loss: 0.6430\n",
      "Epoch 65/250\n",
      "918/918 [==============================] - 2s 2ms/step - loss: 0.6515 - val_loss: 0.6442\n",
      "Epoch 66/250\n",
      "918/918 [==============================] - 2s 2ms/step - loss: 0.6516 - val_loss: 0.6430\n",
      "Epoch 67/250\n",
      "918/918 [==============================] - 1s 2ms/step - loss: 0.6511 - val_loss: 0.6430\n",
      "Epoch 68/250\n",
      "918/918 [==============================] - 1s 1ms/step - loss: 0.6519 - val_loss: 0.6427\n",
      "Epoch 69/250\n",
      "918/918 [==============================] - 2s 2ms/step - loss: 0.6509 - val_loss: 0.6432\n",
      "Epoch 70/250\n",
      "918/918 [==============================] - 1s 1ms/step - loss: 0.6512 - val_loss: 0.6429\n",
      "Epoch 71/250\n",
      "918/918 [==============================] - 2s 2ms/step - loss: 0.6515 - val_loss: 0.6440\n",
      "Epoch 72/250\n",
      "918/918 [==============================] - 1s 1ms/step - loss: 0.6510 - val_loss: 0.6427\n",
      "Epoch 73/250\n",
      "918/918 [==============================] - 1s 1ms/step - loss: 0.6505 - val_loss: 0.6443\n",
      "Epoch 74/250\n",
      "918/918 [==============================] - 2s 2ms/step - loss: 0.6508 - val_loss: 0.6429\n",
      "Epoch 75/250\n",
      "918/918 [==============================] - 1s 2ms/step - loss: 0.6515 - val_loss: 0.6425\n",
      "Epoch 76/250\n",
      "918/918 [==============================] - 1s 1ms/step - loss: 0.6510 - val_loss: 0.6425\n",
      "Epoch 77/250\n",
      "918/918 [==============================] - 1s 1ms/step - loss: 0.6510 - val_loss: 0.6432\n",
      "Epoch 78/250\n",
      "918/918 [==============================] - 2s 2ms/step - loss: 0.6512 - val_loss: 0.6431\n",
      "Epoch 79/250\n",
      "918/918 [==============================] - 1s 2ms/step - loss: 0.6510 - val_loss: 0.6431\n",
      "Epoch 80/250\n",
      "918/918 [==============================] - 1s 1ms/step - loss: 0.6501 - val_loss: 0.6426\n",
      "Epoch 81/250\n",
      "918/918 [==============================] - 1s 1ms/step - loss: 0.6509 - val_loss: 0.6425\n",
      "Epoch 82/250\n",
      "918/918 [==============================] - 1s 2ms/step - loss: 0.6506 - val_loss: 0.6429\n",
      "Epoch 83/250\n",
      "918/918 [==============================] - 2s 2ms/step - loss: 0.6510 - val_loss: 0.6423\n",
      "Epoch 84/250\n",
      "918/918 [==============================] - 1s 2ms/step - loss: 0.6511 - val_loss: 0.6434\n",
      "Epoch 85/250\n",
      "918/918 [==============================] - 2s 2ms/step - loss: 0.6509 - val_loss: 0.6433\n",
      "Epoch 86/250\n",
      "918/918 [==============================] - 1s 1ms/step - loss: 0.6505 - val_loss: 0.6425\n",
      "Epoch 87/250\n",
      "918/918 [==============================] - 1s 1ms/step - loss: 0.6506 - val_loss: 0.6423\n",
      "Epoch 88/250\n",
      "918/918 [==============================] - 1s 1ms/step - loss: 0.6507 - val_loss: 0.6429\n",
      "Epoch 89/250\n",
      "918/918 [==============================] - 1s 1ms/step - loss: 0.6508 - val_loss: 0.6434\n",
      "Epoch 90/250\n",
      "918/918 [==============================] - 1s 1ms/step - loss: 0.6507 - val_loss: 0.6429\n",
      "Epoch 91/250\n",
      "918/918 [==============================] - 1s 1ms/step - loss: 0.6506 - val_loss: 0.6429\n",
      "Epoch 92/250\n",
      "918/918 [==============================] - 1s 2ms/step - loss: 0.6508 - val_loss: 0.6431\n",
      "Epoch 93/250\n",
      "918/918 [==============================] - 1s 1ms/step - loss: 0.6508 - val_loss: 0.6430\n",
      "Epoch 94/250\n",
      "918/918 [==============================] - 1s 1ms/step - loss: 0.6501 - val_loss: 0.6434\n",
      "Epoch 95/250\n",
      "918/918 [==============================] - 1s 1ms/step - loss: 0.6503 - val_loss: 0.6423\n",
      "Epoch 96/250\n",
      "918/918 [==============================] - 1s 1ms/step - loss: 0.6500 - val_loss: 0.6431\n",
      "Epoch 97/250\n",
      "918/918 [==============================] - 2s 2ms/step - loss: 0.6501 - val_loss: 0.6417\n",
      "Epoch 98/250\n",
      "918/918 [==============================] - 1s 1ms/step - loss: 0.6500 - val_loss: 0.6421\n",
      "Epoch 99/250\n",
      "918/918 [==============================] - 1s 1ms/step - loss: 0.6503 - val_loss: 0.6424\n",
      "Epoch 100/250\n",
      "918/918 [==============================] - 1s 1ms/step - loss: 0.6508 - val_loss: 0.6420\n",
      "Epoch 101/250\n",
      "918/918 [==============================] - 1s 2ms/step - loss: 0.6501 - val_loss: 0.6429\n",
      "Epoch 102/250\n",
      "918/918 [==============================] - 2s 2ms/step - loss: 0.6505 - val_loss: 0.6415\n",
      "Epoch 103/250\n",
      "918/918 [==============================] - 1s 1ms/step - loss: 0.6497 - val_loss: 0.6443\n",
      "Epoch 104/250\n",
      "918/918 [==============================] - 1s 2ms/step - loss: 0.6504 - val_loss: 0.6437\n",
      "Epoch 105/250\n",
      "918/918 [==============================] - 1s 1ms/step - loss: 0.6504 - val_loss: 0.6423\n",
      "Epoch 106/250\n",
      "918/918 [==============================] - 1s 1ms/step - loss: 0.6508 - val_loss: 0.6419\n",
      "Epoch 107/250\n",
      "918/918 [==============================] - 1s 1ms/step - loss: 0.6503 - val_loss: 0.6420\n",
      "Epoch 108/250\n",
      "918/918 [==============================] - 2s 2ms/step - loss: 0.6502 - val_loss: 0.6424\n",
      "Epoch 109/250\n",
      "918/918 [==============================] - 2s 2ms/step - loss: 0.6499 - val_loss: 0.6417\n",
      "Epoch 110/250\n",
      "918/918 [==============================] - 2s 2ms/step - loss: 0.6499 - val_loss: 0.6420\n",
      "Epoch 111/250\n",
      "918/918 [==============================] - 2s 2ms/step - loss: 0.6502 - val_loss: 0.6422\n",
      "Epoch 112/250\n",
      "918/918 [==============================] - 2s 2ms/step - loss: 0.6501 - val_loss: 0.6420\n",
      "Epoch 113/250\n",
      "918/918 [==============================] - 1s 2ms/step - loss: 0.6502 - val_loss: 0.6422\n",
      "Epoch 114/250\n",
      "918/918 [==============================] - 1s 2ms/step - loss: 0.6497 - val_loss: 0.6421\n",
      "Epoch 115/250\n",
      "918/918 [==============================] - 1s 1ms/step - loss: 0.6502 - val_loss: 0.6412\n",
      "Epoch 116/250\n",
      "918/918 [==============================] - 2s 2ms/step - loss: 0.6500 - val_loss: 0.6416\n",
      "Epoch 117/250\n",
      "918/918 [==============================] - 1s 2ms/step - loss: 0.6499 - val_loss: 0.6419\n",
      "Epoch 118/250\n",
      "918/918 [==============================] - 1s 1ms/step - loss: 0.6497 - val_loss: 0.6423\n",
      "Epoch 119/250\n",
      "918/918 [==============================] - 1s 1ms/step - loss: 0.6496 - val_loss: 0.6419\n",
      "Epoch 120/250\n",
      "918/918 [==============================] - 1s 1ms/step - loss: 0.6497 - val_loss: 0.6425\n",
      "Epoch 121/250\n",
      "918/918 [==============================] - 1s 1ms/step - loss: 0.6497 - val_loss: 0.6415\n",
      "Epoch 122/250\n",
      "918/918 [==============================] - 1s 1ms/step - loss: 0.6497 - val_loss: 0.6413\n",
      "Epoch 123/250\n",
      "918/918 [==============================] - 1s 1ms/step - loss: 0.6503 - val_loss: 0.6426\n",
      "Epoch 124/250\n",
      "918/918 [==============================] - 2s 2ms/step - loss: 0.6496 - val_loss: 0.6418\n",
      "Epoch 125/250\n",
      "918/918 [==============================] - 2s 2ms/step - loss: 0.6493 - val_loss: 0.6416\n",
      "Epoch 126/250\n",
      "918/918 [==============================] - 1s 2ms/step - loss: 0.6493 - val_loss: 0.6416\n",
      "Epoch 127/250\n",
      "918/918 [==============================] - 1s 1ms/step - loss: 0.6494 - val_loss: 0.6420\n",
      "Epoch 128/250\n",
      "918/918 [==============================] - 1s 1ms/step - loss: 0.6494 - val_loss: 0.6421\n",
      "Epoch 129/250\n",
      "918/918 [==============================] - 2s 2ms/step - loss: 0.6501 - val_loss: 0.6428\n",
      "Epoch 130/250\n",
      "918/918 [==============================] - 2s 2ms/step - loss: 0.6499 - val_loss: 0.6416\n",
      "Epoch 131/250\n",
      "918/918 [==============================] - 1s 2ms/step - loss: 0.6493 - val_loss: 0.6426\n",
      "Epoch 132/250\n",
      "918/918 [==============================] - 1s 1ms/step - loss: 0.6494 - val_loss: 0.6423\n",
      "Epoch 133/250\n",
      "918/918 [==============================] - 2s 2ms/step - loss: 0.6495 - val_loss: 0.6421\n",
      "Epoch 134/250\n",
      "918/918 [==============================] - 1s 2ms/step - loss: 0.6492 - val_loss: 0.6419\n",
      "Epoch 135/250\n",
      "918/918 [==============================] - 1s 1ms/step - loss: 0.6493 - val_loss: 0.6417\n",
      "Epoch 00135: early stopping\n"
     ]
    },
    {
     "data": {
      "text/plain": [
       "<keras.callbacks.History at 0x7f26b9ff6ef0>"
      ]
     },
     "execution_count": 62,
     "metadata": {},
     "output_type": "execute_result"
    }
   ],
   "source": [
    "model.fit(x_train, y_train,epochs = 250,validation_data = (x_valid,y_valid), batch_size=128,\n",
    "         callbacks = [early_stop])"
   ]
  },
  {
   "cell_type": "code",
   "execution_count": 63,
   "id": "de66f922",
   "metadata": {},
   "outputs": [],
   "source": [
    "losses = pd.DataFrame(model.history.history)"
   ]
  },
  {
   "cell_type": "code",
   "execution_count": 64,
   "id": "e2be5e54",
   "metadata": {},
   "outputs": [
    {
     "data": {
      "text/plain": [
       "<AxesSubplot:>"
      ]
     },
     "execution_count": 64,
     "metadata": {},
     "output_type": "execute_result"
    },
    {
     "data": {
      "image/png": "[encoded data removed]",
      "text/plain": [
       "<Figure size 432x288 with 1 Axes>"
      ]
     },
     "metadata": {
      "needs_background": "light"
     },
     "output_type": "display_data"
    }
   ],
   "source": [
    "losses.plot()"
   ]
  },
  {
   "cell_type": "code",
   "execution_count": 65,
   "id": "cd425a61",
   "metadata": {},
   "outputs": [],
   "source": [
    "predictions = (model.predict(X_test) > 0.5).astype(\"int32\")"
   ]
  },
  {
   "cell_type": "code",
   "execution_count": 66,
   "id": "04fdf679",
   "metadata": {},
   "outputs": [
    {
     "name": "stdout",
     "output_type": "stream",
     "text": [
      "              precision    recall  f1-score   support\n",
      "\n",
      "           0       0.95      0.55      0.69     18323\n",
      "           1       0.12      0.67      0.20      1677\n",
      "\n",
      "    accuracy                           0.56     20000\n",
      "   macro avg       0.53      0.61      0.45     20000\n",
      "weighted avg       0.88      0.56      0.65     20000\n",
      "\n"
     ]
    }
   ],
   "source": [
    "print(classification_report(y_test,predictions))"
   ]
  },
  {
   "cell_type": "code",
   "execution_count": null,
   "id": "60b65988",
   "metadata": {},
   "outputs": [],
   "source": []
  }
 ],
 "metadata": {
  "kernelspec": {
   "display_name": "conda_python3",
   "language": "python",
   "name": "conda_python3"
  },
  "language_info": {
   "codemirror_mode": {
    "name": "ipython",
    "version": 3
   },
   "file_extension": ".py",
   "mimetype": "text/x-python",
   "name": "python",
   "nbconvert_exporter": "python",
   "pygments_lexer": "ipython3",
   "version": "3.6.13"
  }
 },
 "nbformat": 4,
 "nbformat_minor": 5
}
